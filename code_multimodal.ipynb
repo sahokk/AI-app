{
  "cells": [
    {
      "cell_type": "markdown",
      "metadata": {
        "id": "view-in-github",
        "colab_type": "text"
      },
      "source": [
        "<a href=\"https://colab.research.google.com/github/sahokk/AI-app/blob/main/code_multimodal.ipynb\" target=\"_parent\"><img src=\"https://colab.research.google.com/assets/colab-badge.svg\" alt=\"Open In Colab\"/></a>"
      ]
    },
    {
      "cell_type": "markdown",
      "metadata": {
        "id": "TsCS7c6X1MEs"
      },
      "source": [
        "# importとか"
      ]
    },
    {
      "cell_type": "code",
      "execution_count": 6,
      "metadata": {
        "colab": {
          "base_uri": "https://localhost:8080/"
        },
        "id": "UVS9ghPhupV9",
        "outputId": "6179dccb-d462-497b-90d2-ca1058ba0e9e"
      },
      "outputs": [
        {
          "output_type": "stream",
          "name": "stdout",
          "text": [
            "Mounted at /content/drive\n"
          ]
        }
      ],
      "source": [
        "from glob import glob\n",
        "import numpy as np\n",
        "import pandas as pd\n",
        "import os\n",
        "import cv2\n",
        "from google.colab import drive\n",
        "drive.mount('/content/drive')"
      ]
    },
    {
      "cell_type": "code",
      "execution_count": 7,
      "metadata": {
        "id": "MNi7uTCK6ndY"
      },
      "outputs": [],
      "source": [
        "import tensorflow as tf\n",
        "from keras import layers, models\n",
        "tf.keras.backend.clear_session()"
      ]
    },
    {
      "cell_type": "code",
      "execution_count": 8,
      "metadata": {
        "colab": {
          "base_uri": "https://localhost:8080/"
        },
        "id": "Sn41s9SG9Bx1",
        "outputId": "ea772613-2eb0-4a49-a4bc-dcbcb9345784"
      },
      "outputs": [
        {
          "output_type": "stream",
          "name": "stdout",
          "text": [
            "\u001b[?25l     \u001b[90m━━━━━━━━━━━━━━━━━━━━━━━━━━━━━━━━━━━━━━━━\u001b[0m \u001b[32m0.0/214.4 KB\u001b[0m \u001b[31m?\u001b[0m eta \u001b[36m-:--:--\u001b[0m\r\u001b[2K     \u001b[90m━━━━━━━━━━━━━━━━━━━━━━━━━━━━━━━━━━━━━━\u001b[0m \u001b[32m214.4/214.4 KB\u001b[0m \u001b[31m17.6 MB/s\u001b[0m eta \u001b[36m0:00:00\u001b[0m\n",
            "\u001b[?25h  Installing build dependencies ... \u001b[?25l\u001b[?25hdone\n",
            "  Getting requirements to build wheel ... \u001b[?25l\u001b[?25hdone\n",
            "  Preparing metadata (pyproject.toml) ... \u001b[?25l\u001b[?25hdone\n",
            "  Building wheel for pyworld (pyproject.toml) ... \u001b[?25l\u001b[?25hdone\n"
          ]
        }
      ],
      "source": [
        "!pip install -qqq pyworld"
      ]
    },
    {
      "cell_type": "code",
      "execution_count": 9,
      "metadata": {
        "id": "2tnWERxlUTlF"
      },
      "outputs": [],
      "source": [
        "import pyworld as pw # 音声処理\n",
        "from tqdm import tqdm\n",
        "import librosa"
      ]
    },
    {
      "cell_type": "code",
      "execution_count": 10,
      "metadata": {
        "id": "AmrUTfId2oFG"
      },
      "outputs": [],
      "source": [
        "expression = ['afraid', 'angry', 'disgusted', 'happy', 'neutral', 'sad', 'surprised']"
      ]
    },
    {
      "cell_type": "markdown",
      "metadata": {
        "id": "P1CaOUV41QAx"
      },
      "source": [
        "# データ前処理"
      ]
    },
    {
      "cell_type": "markdown",
      "metadata": {
        "id": "3VwGndru1aMg"
      },
      "source": [
        "## 画像"
      ]
    },
    {
      "cell_type": "code",
      "execution_count": 11,
      "metadata": {
        "id": "0vzNnAal234m"
      },
      "outputs": [],
      "source": [
        "img_data_dir = '/content/drive/MyDrive/AI-app/KDEF_and_AKDEF/KDEF/*'\n",
        "img_data_names = glob(os.path.join(img_data_dir, '*'))\n",
        "img_size = 32"
      ]
    },
    {
      "cell_type": "code",
      "execution_count": 12,
      "metadata": {
        "id": "UaM0xu5E3Axm"
      },
      "outputs": [],
      "source": [
        "#画像を感情ごとで分類、データセット作成\n",
        "img_dataset = []\n",
        "def create_img_dataset():\n",
        "  for index, img_name in enumerate(img_data_names):  \n",
        "    try:\n",
        "      basename = os.path.basename(img_name)\n",
        "      if basename[4:6] == 'AF':\n",
        "        img_label = 0\n",
        "      elif basename[4:6] == 'AN':\n",
        "        img_label = 1\n",
        "      elif basename[4:6] == 'DI':\n",
        "        img_label = 2\n",
        "      elif basename[4:6] == 'HA':\n",
        "        img_label = 3\n",
        "      elif basename[4:6] == 'NE':\n",
        "        img_label = 4\n",
        "      elif basename[4:6] == 'SA':\n",
        "        img_label = 5\n",
        "      else:\n",
        "        img_label = 6\n",
        "\n",
        "      #img_array = cv2.imread(img_name, cv2.IMREAD_GRAYSCALE)  # グレースケールで画像読み込み\n",
        "      #img_resize_array = cv2.resize(img_array, (img_size, img_size))  # 画像のリサイズ\n",
        "      img_dataset.append([img_name, img_label])  # 画像データ、ラベル情報を追加\n",
        "    except Exception as e:\n",
        "      pass\n",
        "\n"
      ]
    },
    {
      "cell_type": "code",
      "execution_count": 13,
      "metadata": {
        "id": "yExKOXv_4aTF"
      },
      "outputs": [],
      "source": [
        "create_img_dataset()"
      ]
    },
    {
      "cell_type": "code",
      "execution_count": 14,
      "metadata": {
        "colab": {
          "base_uri": "https://localhost:8080/",
          "height": 0
        },
        "id": "hO3I9P5fNSk8",
        "outputId": "3a1fa850-14f4-4250-db32-d980068fb777"
      },
      "outputs": [
        {
          "output_type": "execute_result",
          "data": {
            "text/plain": [
              "Empty DataFrame\n",
              "Columns: [img, voice, label]\n",
              "Index: []"
            ],
            "text/html": [
              "\n",
              "  <div id=\"df-a8267749-30d8-4103-a894-969a2d7d3e8e\">\n",
              "    <div class=\"colab-df-container\">\n",
              "      <div>\n",
              "<style scoped>\n",
              "    .dataframe tbody tr th:only-of-type {\n",
              "        vertical-align: middle;\n",
              "    }\n",
              "\n",
              "    .dataframe tbody tr th {\n",
              "        vertical-align: top;\n",
              "    }\n",
              "\n",
              "    .dataframe thead th {\n",
              "        text-align: right;\n",
              "    }\n",
              "</style>\n",
              "<table border=\"1\" class=\"dataframe\">\n",
              "  <thead>\n",
              "    <tr style=\"text-align: right;\">\n",
              "      <th></th>\n",
              "      <th>img</th>\n",
              "      <th>voice</th>\n",
              "      <th>label</th>\n",
              "    </tr>\n",
              "  </thead>\n",
              "  <tbody>\n",
              "  </tbody>\n",
              "</table>\n",
              "</div>\n",
              "      <button class=\"colab-df-convert\" onclick=\"convertToInteractive('df-a8267749-30d8-4103-a894-969a2d7d3e8e')\"\n",
              "              title=\"Convert this dataframe to an interactive table.\"\n",
              "              style=\"display:none;\">\n",
              "        \n",
              "  <svg xmlns=\"http://www.w3.org/2000/svg\" height=\"24px\"viewBox=\"0 0 24 24\"\n",
              "       width=\"24px\">\n",
              "    <path d=\"M0 0h24v24H0V0z\" fill=\"none\"/>\n",
              "    <path d=\"M18.56 5.44l.94 2.06.94-2.06 2.06-.94-2.06-.94-.94-2.06-.94 2.06-2.06.94zm-11 1L8.5 8.5l.94-2.06 2.06-.94-2.06-.94L8.5 2.5l-.94 2.06-2.06.94zm10 10l.94 2.06.94-2.06 2.06-.94-2.06-.94-.94-2.06-.94 2.06-2.06.94z\"/><path d=\"M17.41 7.96l-1.37-1.37c-.4-.4-.92-.59-1.43-.59-.52 0-1.04.2-1.43.59L10.3 9.45l-7.72 7.72c-.78.78-.78 2.05 0 2.83L4 21.41c.39.39.9.59 1.41.59.51 0 1.02-.2 1.41-.59l7.78-7.78 2.81-2.81c.8-.78.8-2.07 0-2.86zM5.41 20L4 18.59l7.72-7.72 1.47 1.35L5.41 20z\"/>\n",
              "  </svg>\n",
              "      </button>\n",
              "      \n",
              "  <style>\n",
              "    .colab-df-container {\n",
              "      display:flex;\n",
              "      flex-wrap:wrap;\n",
              "      gap: 12px;\n",
              "    }\n",
              "\n",
              "    .colab-df-convert {\n",
              "      background-color: #E8F0FE;\n",
              "      border: none;\n",
              "      border-radius: 50%;\n",
              "      cursor: pointer;\n",
              "      display: none;\n",
              "      fill: #1967D2;\n",
              "      height: 32px;\n",
              "      padding: 0 0 0 0;\n",
              "      width: 32px;\n",
              "    }\n",
              "\n",
              "    .colab-df-convert:hover {\n",
              "      background-color: #E2EBFA;\n",
              "      box-shadow: 0px 1px 2px rgba(60, 64, 67, 0.3), 0px 1px 3px 1px rgba(60, 64, 67, 0.15);\n",
              "      fill: #174EA6;\n",
              "    }\n",
              "\n",
              "    [theme=dark] .colab-df-convert {\n",
              "      background-color: #3B4455;\n",
              "      fill: #D2E3FC;\n",
              "    }\n",
              "\n",
              "    [theme=dark] .colab-df-convert:hover {\n",
              "      background-color: #434B5C;\n",
              "      box-shadow: 0px 1px 3px 1px rgba(0, 0, 0, 0.15);\n",
              "      filter: drop-shadow(0px 1px 2px rgba(0, 0, 0, 0.3));\n",
              "      fill: #FFFFFF;\n",
              "    }\n",
              "  </style>\n",
              "\n",
              "      <script>\n",
              "        const buttonEl =\n",
              "          document.querySelector('#df-a8267749-30d8-4103-a894-969a2d7d3e8e button.colab-df-convert');\n",
              "        buttonEl.style.display =\n",
              "          google.colab.kernel.accessAllowed ? 'block' : 'none';\n",
              "\n",
              "        async function convertToInteractive(key) {\n",
              "          const element = document.querySelector('#df-a8267749-30d8-4103-a894-969a2d7d3e8e');\n",
              "          const dataTable =\n",
              "            await google.colab.kernel.invokeFunction('convertToInteractive',\n",
              "                                                     [key], {});\n",
              "          if (!dataTable) return;\n",
              "\n",
              "          const docLinkHtml = 'Like what you see? Visit the ' +\n",
              "            '<a target=\"_blank\" href=https://colab.research.google.com/notebooks/data_table.ipynb>data table notebook</a>'\n",
              "            + ' to learn more about interactive tables.';\n",
              "          element.innerHTML = '';\n",
              "          dataTable['output_type'] = 'display_data';\n",
              "          await google.colab.output.renderOutput(dataTable, element);\n",
              "          const docLink = document.createElement('div');\n",
              "          docLink.innerHTML = docLinkHtml;\n",
              "          element.appendChild(docLink);\n",
              "        }\n",
              "      </script>\n",
              "    </div>\n",
              "  </div>\n",
              "  "
            ]
          },
          "metadata": {},
          "execution_count": 14
        }
      ],
      "source": [
        "multi_dataset = pd.DataFrame(index=[], columns=['img', 'voice', 'label'])\n",
        "multi_dataset"
      ]
    },
    {
      "cell_type": "code",
      "execution_count": 15,
      "metadata": {
        "colab": {
          "base_uri": "https://localhost:8080/",
          "height": 0
        },
        "id": "4TgsjKWMPbTw",
        "outputId": "dacc8f18-2e30-4e6b-d60b-a4cf6a9ec6d4"
      },
      "outputs": [
        {
          "output_type": "execute_result",
          "data": {
            "text/plain": [
              "                                                    img voice label\n",
              "0     /content/drive/MyDrive/AI-app/KDEF_and_AKDEF/K...   NaN     0\n",
              "1     /content/drive/MyDrive/AI-app/KDEF_and_AKDEF/K...   NaN     2\n",
              "2     /content/drive/MyDrive/AI-app/KDEF_and_AKDEF/K...   NaN     1\n",
              "3     /content/drive/MyDrive/AI-app/KDEF_and_AKDEF/K...   NaN     0\n",
              "4     /content/drive/MyDrive/AI-app/KDEF_and_AKDEF/K...   NaN     2\n",
              "...                                                 ...   ...   ...\n",
              "4905  /content/drive/MyDrive/AI-app/KDEF_and_AKDEF/K...   NaN     6\n",
              "4906  /content/drive/MyDrive/AI-app/KDEF_and_AKDEF/K...   NaN     5\n",
              "4907  /content/drive/MyDrive/AI-app/KDEF_and_AKDEF/K...   NaN     5\n",
              "4908  /content/drive/MyDrive/AI-app/KDEF_and_AKDEF/K...   NaN     5\n",
              "4909  /content/drive/MyDrive/AI-app/KDEF_and_AKDEF/K...   NaN     6\n",
              "\n",
              "[4910 rows x 3 columns]"
            ],
            "text/html": [
              "\n",
              "  <div id=\"df-b19c5c52-a6cd-4146-a68c-834cbcec9cfe\">\n",
              "    <div class=\"colab-df-container\">\n",
              "      <div>\n",
              "<style scoped>\n",
              "    .dataframe tbody tr th:only-of-type {\n",
              "        vertical-align: middle;\n",
              "    }\n",
              "\n",
              "    .dataframe tbody tr th {\n",
              "        vertical-align: top;\n",
              "    }\n",
              "\n",
              "    .dataframe thead th {\n",
              "        text-align: right;\n",
              "    }\n",
              "</style>\n",
              "<table border=\"1\" class=\"dataframe\">\n",
              "  <thead>\n",
              "    <tr style=\"text-align: right;\">\n",
              "      <th></th>\n",
              "      <th>img</th>\n",
              "      <th>voice</th>\n",
              "      <th>label</th>\n",
              "    </tr>\n",
              "  </thead>\n",
              "  <tbody>\n",
              "    <tr>\n",
              "      <th>0</th>\n",
              "      <td>/content/drive/MyDrive/AI-app/KDEF_and_AKDEF/K...</td>\n",
              "      <td>NaN</td>\n",
              "      <td>0</td>\n",
              "    </tr>\n",
              "    <tr>\n",
              "      <th>1</th>\n",
              "      <td>/content/drive/MyDrive/AI-app/KDEF_and_AKDEF/K...</td>\n",
              "      <td>NaN</td>\n",
              "      <td>2</td>\n",
              "    </tr>\n",
              "    <tr>\n",
              "      <th>2</th>\n",
              "      <td>/content/drive/MyDrive/AI-app/KDEF_and_AKDEF/K...</td>\n",
              "      <td>NaN</td>\n",
              "      <td>1</td>\n",
              "    </tr>\n",
              "    <tr>\n",
              "      <th>3</th>\n",
              "      <td>/content/drive/MyDrive/AI-app/KDEF_and_AKDEF/K...</td>\n",
              "      <td>NaN</td>\n",
              "      <td>0</td>\n",
              "    </tr>\n",
              "    <tr>\n",
              "      <th>4</th>\n",
              "      <td>/content/drive/MyDrive/AI-app/KDEF_and_AKDEF/K...</td>\n",
              "      <td>NaN</td>\n",
              "      <td>2</td>\n",
              "    </tr>\n",
              "    <tr>\n",
              "      <th>...</th>\n",
              "      <td>...</td>\n",
              "      <td>...</td>\n",
              "      <td>...</td>\n",
              "    </tr>\n",
              "    <tr>\n",
              "      <th>4905</th>\n",
              "      <td>/content/drive/MyDrive/AI-app/KDEF_and_AKDEF/K...</td>\n",
              "      <td>NaN</td>\n",
              "      <td>6</td>\n",
              "    </tr>\n",
              "    <tr>\n",
              "      <th>4906</th>\n",
              "      <td>/content/drive/MyDrive/AI-app/KDEF_and_AKDEF/K...</td>\n",
              "      <td>NaN</td>\n",
              "      <td>5</td>\n",
              "    </tr>\n",
              "    <tr>\n",
              "      <th>4907</th>\n",
              "      <td>/content/drive/MyDrive/AI-app/KDEF_and_AKDEF/K...</td>\n",
              "      <td>NaN</td>\n",
              "      <td>5</td>\n",
              "    </tr>\n",
              "    <tr>\n",
              "      <th>4908</th>\n",
              "      <td>/content/drive/MyDrive/AI-app/KDEF_and_AKDEF/K...</td>\n",
              "      <td>NaN</td>\n",
              "      <td>5</td>\n",
              "    </tr>\n",
              "    <tr>\n",
              "      <th>4909</th>\n",
              "      <td>/content/drive/MyDrive/AI-app/KDEF_and_AKDEF/K...</td>\n",
              "      <td>NaN</td>\n",
              "      <td>6</td>\n",
              "    </tr>\n",
              "  </tbody>\n",
              "</table>\n",
              "<p>4910 rows × 3 columns</p>\n",
              "</div>\n",
              "      <button class=\"colab-df-convert\" onclick=\"convertToInteractive('df-b19c5c52-a6cd-4146-a68c-834cbcec9cfe')\"\n",
              "              title=\"Convert this dataframe to an interactive table.\"\n",
              "              style=\"display:none;\">\n",
              "        \n",
              "  <svg xmlns=\"http://www.w3.org/2000/svg\" height=\"24px\"viewBox=\"0 0 24 24\"\n",
              "       width=\"24px\">\n",
              "    <path d=\"M0 0h24v24H0V0z\" fill=\"none\"/>\n",
              "    <path d=\"M18.56 5.44l.94 2.06.94-2.06 2.06-.94-2.06-.94-.94-2.06-.94 2.06-2.06.94zm-11 1L8.5 8.5l.94-2.06 2.06-.94-2.06-.94L8.5 2.5l-.94 2.06-2.06.94zm10 10l.94 2.06.94-2.06 2.06-.94-2.06-.94-.94-2.06-.94 2.06-2.06.94z\"/><path d=\"M17.41 7.96l-1.37-1.37c-.4-.4-.92-.59-1.43-.59-.52 0-1.04.2-1.43.59L10.3 9.45l-7.72 7.72c-.78.78-.78 2.05 0 2.83L4 21.41c.39.39.9.59 1.41.59.51 0 1.02-.2 1.41-.59l7.78-7.78 2.81-2.81c.8-.78.8-2.07 0-2.86zM5.41 20L4 18.59l7.72-7.72 1.47 1.35L5.41 20z\"/>\n",
              "  </svg>\n",
              "      </button>\n",
              "      \n",
              "  <style>\n",
              "    .colab-df-container {\n",
              "      display:flex;\n",
              "      flex-wrap:wrap;\n",
              "      gap: 12px;\n",
              "    }\n",
              "\n",
              "    .colab-df-convert {\n",
              "      background-color: #E8F0FE;\n",
              "      border: none;\n",
              "      border-radius: 50%;\n",
              "      cursor: pointer;\n",
              "      display: none;\n",
              "      fill: #1967D2;\n",
              "      height: 32px;\n",
              "      padding: 0 0 0 0;\n",
              "      width: 32px;\n",
              "    }\n",
              "\n",
              "    .colab-df-convert:hover {\n",
              "      background-color: #E2EBFA;\n",
              "      box-shadow: 0px 1px 2px rgba(60, 64, 67, 0.3), 0px 1px 3px 1px rgba(60, 64, 67, 0.15);\n",
              "      fill: #174EA6;\n",
              "    }\n",
              "\n",
              "    [theme=dark] .colab-df-convert {\n",
              "      background-color: #3B4455;\n",
              "      fill: #D2E3FC;\n",
              "    }\n",
              "\n",
              "    [theme=dark] .colab-df-convert:hover {\n",
              "      background-color: #434B5C;\n",
              "      box-shadow: 0px 1px 3px 1px rgba(0, 0, 0, 0.15);\n",
              "      filter: drop-shadow(0px 1px 2px rgba(0, 0, 0, 0.3));\n",
              "      fill: #FFFFFF;\n",
              "    }\n",
              "  </style>\n",
              "\n",
              "      <script>\n",
              "        const buttonEl =\n",
              "          document.querySelector('#df-b19c5c52-a6cd-4146-a68c-834cbcec9cfe button.colab-df-convert');\n",
              "        buttonEl.style.display =\n",
              "          google.colab.kernel.accessAllowed ? 'block' : 'none';\n",
              "\n",
              "        async function convertToInteractive(key) {\n",
              "          const element = document.querySelector('#df-b19c5c52-a6cd-4146-a68c-834cbcec9cfe');\n",
              "          const dataTable =\n",
              "            await google.colab.kernel.invokeFunction('convertToInteractive',\n",
              "                                                     [key], {});\n",
              "          if (!dataTable) return;\n",
              "\n",
              "          const docLinkHtml = 'Like what you see? Visit the ' +\n",
              "            '<a target=\"_blank\" href=https://colab.research.google.com/notebooks/data_table.ipynb>data table notebook</a>'\n",
              "            + ' to learn more about interactive tables.';\n",
              "          element.innerHTML = '';\n",
              "          dataTable['output_type'] = 'display_data';\n",
              "          await google.colab.output.renderOutput(dataTable, element);\n",
              "          const docLink = document.createElement('div');\n",
              "          docLink.innerHTML = docLinkHtml;\n",
              "          element.appendChild(docLink);\n",
              "        }\n",
              "      </script>\n",
              "    </div>\n",
              "  </div>\n",
              "  "
            ]
          },
          "metadata": {},
          "execution_count": 15
        }
      ],
      "source": [
        "for i, (img_name, label) in enumerate(img_dataset):\n",
        "  multi_dataset.loc[i, ('img','label')] = [img_name, label]\n",
        "\n",
        "multi_dataset"
      ]
    },
    {
      "cell_type": "code",
      "execution_count": 16,
      "metadata": {
        "colab": {
          "base_uri": "https://localhost:8080/",
          "height": 0
        },
        "id": "OqE0i91wbljo",
        "outputId": "f92dd4f7-2c1d-44e5-a774-244d0a97e13d"
      },
      "outputs": [
        {
          "output_type": "execute_result",
          "data": {
            "text/plain": [
              "                                                    img voice label\n",
              "0     /content/drive/MyDrive/AI-app/KDEF_and_AKDEF/K...   NaN     0\n",
              "1     /content/drive/MyDrive/AI-app/KDEF_and_AKDEF/K...   NaN     0\n",
              "2     /content/drive/MyDrive/AI-app/KDEF_and_AKDEF/K...   NaN     0\n",
              "3     /content/drive/MyDrive/AI-app/KDEF_and_AKDEF/K...   NaN     0\n",
              "4     /content/drive/MyDrive/AI-app/KDEF_and_AKDEF/K...   NaN     0\n",
              "...                                                 ...   ...   ...\n",
              "4905  /content/drive/MyDrive/AI-app/KDEF_and_AKDEF/K...   NaN     6\n",
              "4906  /content/drive/MyDrive/AI-app/KDEF_and_AKDEF/K...   NaN     6\n",
              "4907  /content/drive/MyDrive/AI-app/KDEF_and_AKDEF/K...   NaN     6\n",
              "4908  /content/drive/MyDrive/AI-app/KDEF_and_AKDEF/K...   NaN     6\n",
              "4909  /content/drive/MyDrive/AI-app/KDEF_and_AKDEF/K...   NaN     6\n",
              "\n",
              "[4910 rows x 3 columns]"
            ],
            "text/html": [
              "\n",
              "  <div id=\"df-2d94765c-67b0-4e14-a168-884e4a9127cb\">\n",
              "    <div class=\"colab-df-container\">\n",
              "      <div>\n",
              "<style scoped>\n",
              "    .dataframe tbody tr th:only-of-type {\n",
              "        vertical-align: middle;\n",
              "    }\n",
              "\n",
              "    .dataframe tbody tr th {\n",
              "        vertical-align: top;\n",
              "    }\n",
              "\n",
              "    .dataframe thead th {\n",
              "        text-align: right;\n",
              "    }\n",
              "</style>\n",
              "<table border=\"1\" class=\"dataframe\">\n",
              "  <thead>\n",
              "    <tr style=\"text-align: right;\">\n",
              "      <th></th>\n",
              "      <th>img</th>\n",
              "      <th>voice</th>\n",
              "      <th>label</th>\n",
              "    </tr>\n",
              "  </thead>\n",
              "  <tbody>\n",
              "    <tr>\n",
              "      <th>0</th>\n",
              "      <td>/content/drive/MyDrive/AI-app/KDEF_and_AKDEF/K...</td>\n",
              "      <td>NaN</td>\n",
              "      <td>0</td>\n",
              "    </tr>\n",
              "    <tr>\n",
              "      <th>1</th>\n",
              "      <td>/content/drive/MyDrive/AI-app/KDEF_and_AKDEF/K...</td>\n",
              "      <td>NaN</td>\n",
              "      <td>0</td>\n",
              "    </tr>\n",
              "    <tr>\n",
              "      <th>2</th>\n",
              "      <td>/content/drive/MyDrive/AI-app/KDEF_and_AKDEF/K...</td>\n",
              "      <td>NaN</td>\n",
              "      <td>0</td>\n",
              "    </tr>\n",
              "    <tr>\n",
              "      <th>3</th>\n",
              "      <td>/content/drive/MyDrive/AI-app/KDEF_and_AKDEF/K...</td>\n",
              "      <td>NaN</td>\n",
              "      <td>0</td>\n",
              "    </tr>\n",
              "    <tr>\n",
              "      <th>4</th>\n",
              "      <td>/content/drive/MyDrive/AI-app/KDEF_and_AKDEF/K...</td>\n",
              "      <td>NaN</td>\n",
              "      <td>0</td>\n",
              "    </tr>\n",
              "    <tr>\n",
              "      <th>...</th>\n",
              "      <td>...</td>\n",
              "      <td>...</td>\n",
              "      <td>...</td>\n",
              "    </tr>\n",
              "    <tr>\n",
              "      <th>4905</th>\n",
              "      <td>/content/drive/MyDrive/AI-app/KDEF_and_AKDEF/K...</td>\n",
              "      <td>NaN</td>\n",
              "      <td>6</td>\n",
              "    </tr>\n",
              "    <tr>\n",
              "      <th>4906</th>\n",
              "      <td>/content/drive/MyDrive/AI-app/KDEF_and_AKDEF/K...</td>\n",
              "      <td>NaN</td>\n",
              "      <td>6</td>\n",
              "    </tr>\n",
              "    <tr>\n",
              "      <th>4907</th>\n",
              "      <td>/content/drive/MyDrive/AI-app/KDEF_and_AKDEF/K...</td>\n",
              "      <td>NaN</td>\n",
              "      <td>6</td>\n",
              "    </tr>\n",
              "    <tr>\n",
              "      <th>4908</th>\n",
              "      <td>/content/drive/MyDrive/AI-app/KDEF_and_AKDEF/K...</td>\n",
              "      <td>NaN</td>\n",
              "      <td>6</td>\n",
              "    </tr>\n",
              "    <tr>\n",
              "      <th>4909</th>\n",
              "      <td>/content/drive/MyDrive/AI-app/KDEF_and_AKDEF/K...</td>\n",
              "      <td>NaN</td>\n",
              "      <td>6</td>\n",
              "    </tr>\n",
              "  </tbody>\n",
              "</table>\n",
              "<p>4910 rows × 3 columns</p>\n",
              "</div>\n",
              "      <button class=\"colab-df-convert\" onclick=\"convertToInteractive('df-2d94765c-67b0-4e14-a168-884e4a9127cb')\"\n",
              "              title=\"Convert this dataframe to an interactive table.\"\n",
              "              style=\"display:none;\">\n",
              "        \n",
              "  <svg xmlns=\"http://www.w3.org/2000/svg\" height=\"24px\"viewBox=\"0 0 24 24\"\n",
              "       width=\"24px\">\n",
              "    <path d=\"M0 0h24v24H0V0z\" fill=\"none\"/>\n",
              "    <path d=\"M18.56 5.44l.94 2.06.94-2.06 2.06-.94-2.06-.94-.94-2.06-.94 2.06-2.06.94zm-11 1L8.5 8.5l.94-2.06 2.06-.94-2.06-.94L8.5 2.5l-.94 2.06-2.06.94zm10 10l.94 2.06.94-2.06 2.06-.94-2.06-.94-.94-2.06-.94 2.06-2.06.94z\"/><path d=\"M17.41 7.96l-1.37-1.37c-.4-.4-.92-.59-1.43-.59-.52 0-1.04.2-1.43.59L10.3 9.45l-7.72 7.72c-.78.78-.78 2.05 0 2.83L4 21.41c.39.39.9.59 1.41.59.51 0 1.02-.2 1.41-.59l7.78-7.78 2.81-2.81c.8-.78.8-2.07 0-2.86zM5.41 20L4 18.59l7.72-7.72 1.47 1.35L5.41 20z\"/>\n",
              "  </svg>\n",
              "      </button>\n",
              "      \n",
              "  <style>\n",
              "    .colab-df-container {\n",
              "      display:flex;\n",
              "      flex-wrap:wrap;\n",
              "      gap: 12px;\n",
              "    }\n",
              "\n",
              "    .colab-df-convert {\n",
              "      background-color: #E8F0FE;\n",
              "      border: none;\n",
              "      border-radius: 50%;\n",
              "      cursor: pointer;\n",
              "      display: none;\n",
              "      fill: #1967D2;\n",
              "      height: 32px;\n",
              "      padding: 0 0 0 0;\n",
              "      width: 32px;\n",
              "    }\n",
              "\n",
              "    .colab-df-convert:hover {\n",
              "      background-color: #E2EBFA;\n",
              "      box-shadow: 0px 1px 2px rgba(60, 64, 67, 0.3), 0px 1px 3px 1px rgba(60, 64, 67, 0.15);\n",
              "      fill: #174EA6;\n",
              "    }\n",
              "\n",
              "    [theme=dark] .colab-df-convert {\n",
              "      background-color: #3B4455;\n",
              "      fill: #D2E3FC;\n",
              "    }\n",
              "\n",
              "    [theme=dark] .colab-df-convert:hover {\n",
              "      background-color: #434B5C;\n",
              "      box-shadow: 0px 1px 3px 1px rgba(0, 0, 0, 0.15);\n",
              "      filter: drop-shadow(0px 1px 2px rgba(0, 0, 0, 0.3));\n",
              "      fill: #FFFFFF;\n",
              "    }\n",
              "  </style>\n",
              "\n",
              "      <script>\n",
              "        const buttonEl =\n",
              "          document.querySelector('#df-2d94765c-67b0-4e14-a168-884e4a9127cb button.colab-df-convert');\n",
              "        buttonEl.style.display =\n",
              "          google.colab.kernel.accessAllowed ? 'block' : 'none';\n",
              "\n",
              "        async function convertToInteractive(key) {\n",
              "          const element = document.querySelector('#df-2d94765c-67b0-4e14-a168-884e4a9127cb');\n",
              "          const dataTable =\n",
              "            await google.colab.kernel.invokeFunction('convertToInteractive',\n",
              "                                                     [key], {});\n",
              "          if (!dataTable) return;\n",
              "\n",
              "          const docLinkHtml = 'Like what you see? Visit the ' +\n",
              "            '<a target=\"_blank\" href=https://colab.research.google.com/notebooks/data_table.ipynb>data table notebook</a>'\n",
              "            + ' to learn more about interactive tables.';\n",
              "          element.innerHTML = '';\n",
              "          dataTable['output_type'] = 'display_data';\n",
              "          await google.colab.output.renderOutput(dataTable, element);\n",
              "          const docLink = document.createElement('div');\n",
              "          docLink.innerHTML = docLinkHtml;\n",
              "          element.appendChild(docLink);\n",
              "        }\n",
              "      </script>\n",
              "    </div>\n",
              "  </div>\n",
              "  "
            ]
          },
          "metadata": {},
          "execution_count": 16
        }
      ],
      "source": [
        "multi_dataset = multi_dataset.sort_values('label')\n",
        "multi_dataset = multi_dataset.reset_index(drop=True)\n",
        "multi_dataset"
      ]
    },
    {
      "cell_type": "markdown",
      "metadata": {
        "id": "EJMqmmHa1bsu"
      },
      "source": [
        "## 音声"
      ]
    },
    {
      "cell_type": "code",
      "execution_count": 17,
      "metadata": {
        "id": "J-g67icD6Xg7"
      },
      "outputs": [],
      "source": [
        "voice_data_dir = '/content/drive/MyDrive/AI-app/voice_data'\n",
        "voice_data_names = []"
      ]
    },
    {
      "cell_type": "code",
      "execution_count": null,
      "metadata": {
        "id": "0XQYhQ0g6hro"
      },
      "outputs": [],
      "source": [
        "files = [\n",
        "  os.path.join(voice_data_dir, 'Actor_*/03-01-06-*.wav'),#fear(afraid) 192\n",
        "  os.path.join(voice_data_dir, 'Actor_*/03-01-05-*.wav'),#angry 192\n",
        "  os.path.join(voice_data_dir, 'Actor_*/03-01-07-*.wav'),#disgust\n",
        "  os.path.join(voice_data_dir, 'Actor_*/03-01-03-*.wav'),#happy\n",
        "  os.path.join(voice_data_dir, 'Actor_*/03-01-01-*.wav'),#neutral 96\n",
        "  os.path.join(voice_data_dir, 'Actor_*/03-01-04-*.wav'),#sad\n",
        "  os.path.join(voice_data_dir, 'Actor_*/03-01-08-*.wav')#surprised\n",
        "]\n",
        "\n",
        "voice_data = np.hstack([\n",
        "    np.array([\n",
        "        librosa.feature.mfcc(*librosa.load(wav)).T for wav in glob(f)\n",
        "    ]) for f in files\n",
        "])\n",
        "\n",
        "voice_label = np.hstack([\n",
        "    np.full(len(glob(f)), i) for i, f in enumerate(files)\n",
        "])"
      ]
    },
    {
      "cell_type": "code",
      "execution_count": null,
      "metadata": {
        "id": "_3xaIctfNDMi"
      },
      "outputs": [],
      "source": [
        "from keras_preprocessing.sequence import pad_sequences\n",
        "voice_data = pad_sequences(voice_data, 300, dtype=voice_data[0].dtype)"
      ]
    },
    {
      "cell_type": "code",
      "execution_count": null,
      "metadata": {
        "id": "lI9z1aST7Cr2"
      },
      "outputs": [],
      "source": [
        "wav = []\n",
        "for f in files:\n",
        "  wav.append(glob(f))"
      ]
    },
    {
      "cell_type": "code",
      "execution_count": null,
      "metadata": {
        "id": "YXZoRJ4X_p29"
      },
      "outputs": [],
      "source": [
        "wavs = []\n",
        "for j in range(len(wav)):\n",
        "  for i in range(len(wav[j])):\n",
        "    wavs.append(wav[j][i])\n",
        "\n",
        "wavs[:5]"
      ]
    },
    {
      "cell_type": "code",
      "execution_count": null,
      "metadata": {
        "id": "K18dLHEQZLtJ"
      },
      "outputs": [],
      "source": [
        "voices = []\n",
        "\n",
        "for label in range(len(expression)):\n",
        "  plus = (voice_label==label-1).sum() + (voice_label==label-2).sum() + (voice_label==label-3).sum() + (voice_label==label-4).sum() + (voice_label==label-5).sum() + (voice_label==label-6).sum()\n",
        "  for index in range((multi_dataset['label']==label).sum()):\n",
        "    voices.append(wavs[plus + (index%(voice_label==label).sum())])"
      ]
    },
    {
      "cell_type": "code",
      "execution_count": null,
      "metadata": {
        "id": "i9ePl75UgZSE"
      },
      "outputs": [],
      "source": [
        "multi_dataset['voice'] = voices\n",
        "multi_dataset"
      ]
    },
    {
      "cell_type": "markdown",
      "metadata": {
        "id": "Zck-luuIBqAr"
      },
      "source": [
        "## データセットの処理"
      ]
    },
    {
      "cell_type": "code",
      "execution_count": null,
      "metadata": {
        "id": "JDXh7XX3tCMr"
      },
      "outputs": [],
      "source": [
        "multi_data_img = []\n",
        "for img_name in multi_dataset['img'].to_numpy():\n",
        "  img_array = cv2.imread(img_name, cv2.IMREAD_GRAYSCALE)  # グレースケールで画像読み込み\n",
        "  img_resize_array = cv2.resize(img_array, (img_size, img_size))  # 画像のリサイズ\n",
        "  multi_data_img.append(img_resize_array)\n",
        "  print(img_name)\n",
        "multi_data_img[0]"
      ]
    },
    {
      "cell_type": "code",
      "execution_count": null,
      "metadata": {
        "id": "_2YI1fVsvzaW"
      },
      "outputs": [],
      "source": [
        "multi_data_img_255 = np.array(multi_data_img).astype('float32') / 255\n",
        "multi_data_img_255.shape"
      ]
    },
    {
      "cell_type": "code",
      "execution_count": null,
      "metadata": {
        "id": "WMoC4QVV8npL"
      },
      "outputs": [],
      "source": [
        "multi_data_voice = []\n",
        "multi_data_voice =np.hstack([\n",
        "    np.array([\n",
        "        librosa.feature.mfcc(*librosa.load(voice_name)).T for voice_name in multi_dataset['voice'].to_numpy()\n",
        "    ])\n",
        "])"
      ]
    },
    {
      "cell_type": "code",
      "execution_count": null,
      "metadata": {
        "id": "IJyI47FKAhbQ"
      },
      "outputs": [],
      "source": [
        "from keras_preprocessing.sequence import pad_sequences\n",
        "multi_data_voice = pad_sequences(multi_data_voice, 300, dtype=multi_data_voice[0].dtype)"
      ]
    },
    {
      "cell_type": "code",
      "execution_count": null,
      "metadata": {
        "id": "7HZ9BDr1A7Mw"
      },
      "outputs": [],
      "source": [
        "multi_label = multi_dataset['label'].to_numpy().astype('int8')"
      ]
    },
    {
      "cell_type": "markdown",
      "metadata": {
        "id": "W6pUEPHh1Tuh"
      },
      "source": [
        "# コード"
      ]
    },
    {
      "cell_type": "markdown",
      "metadata": {
        "id": "elLPSov_1fHS"
      },
      "source": [
        "## 画像"
      ]
    },
    {
      "cell_type": "code",
      "execution_count": null,
      "metadata": {
        "colab": {
          "background_save": true
        },
        "id": "KzLr7CUUhkJ3"
      },
      "outputs": [],
      "source": [
        "from sklearn.model_selection import train_test_split\n",
        "\n",
        "X_multi_img_train, X_multi_img_test, y_multi_img_train, y_multi_img_test = train_test_split(multi_data_img_255, multi_label, test_size=0.3, random_state=100, stratify=multi_label)"
      ]
    },
    {
      "cell_type": "code",
      "execution_count": null,
      "metadata": {
        "colab": {
          "background_save": true
        },
        "id": "VxFPKBLZrFD4"
      },
      "outputs": [],
      "source": [
        "from tensorflow.keras import utils as np_utils\n",
        "y_test_org = y_multi_img_test\n",
        "y_multi_img_train = np_utils.to_categorical(y_multi_img_train, len(expression))\n",
        "y_multi_img_test = np_utils.to_categorical(y_multi_img_test, len(expression))"
      ]
    },
    {
      "cell_type": "code",
      "execution_count": null,
      "metadata": {
        "id": "VXs61LjHC7hz"
      },
      "outputs": [],
      "source": [
        "multi_img_model = models.load_model('/content/drive/MyDrive/AI-app/models/img_an1_cnn_model.h5')"
      ]
    },
    {
      "cell_type": "code",
      "execution_count": null,
      "metadata": {
        "colab": {
          "base_uri": "https://localhost:8080/"
        },
        "id": "Q1mGFqdFEKSH",
        "outputId": "c013dc36-12a8-4204-879c-682c3a2192c8"
      },
      "outputs": [
        {
          "name": "stdout",
          "output_type": "stream",
          "text": [
            "47/47 [==============================] - 3s 41ms/step - loss: 1.0162 - acc: 0.6246\n",
            "正解率= 0.624575674533844 loss= 1.0162019729614258\n"
          ]
        }
      ],
      "source": [
        "# モデルを評価\n",
        "score = multi_img_model.evaluate(X_multi_img_test, y_multi_img_test, verbose=1)\n",
        "print('正解率=', score[1], 'loss=', score[0])"
      ]
    },
    {
      "cell_type": "markdown",
      "metadata": {
        "id": "7UFH0AOK1gZU"
      },
      "source": [
        "## 音声"
      ]
    },
    {
      "cell_type": "code",
      "execution_count": null,
      "metadata": {
        "id": "YXSkCXNtEuVt"
      },
      "outputs": [],
      "source": [
        "from sklearn.model_selection import train_test_split\n",
        "\n",
        "X_multi_voice_train, X_multi_voice_test, y_multi_voice_train, y_multi_voice_test = train_test_split(voice_data, voice_label, test_size=0.3, random_state=100, stratify=voice_label)"
      ]
    },
    {
      "cell_type": "code",
      "execution_count": null,
      "metadata": {
        "id": "VLbybtGLE7el"
      },
      "outputs": [],
      "source": [
        "from keras.models import Sequential\n",
        "from keras.layers import LSTM, Dense\n",
        "from tensorflow.keras import layers\n",
        "\n",
        "model = Sequential([\n",
        "    LSTM(256, input_shape=(300, 20)),\n",
        "    layers.Dropout(0.25),\n",
        "\n",
        "    Dense(len(expression), activation='softmax')\n",
        "])\n",
        "\n",
        "model.compile(\n",
        "    loss='sparse_categorical_crossentropy',\n",
        "    optimizer='Adam',\n",
        "    metrics=['accuracy']\n",
        ")"
      ]
    },
    {
      "cell_type": "code",
      "execution_count": null,
      "metadata": {
        "colab": {
          "base_uri": "https://localhost:8080/"
        },
        "id": "XHYMjFYI-1H1",
        "outputId": "7227d4f3-0729-4af8-bea5-74139b063e2d"
      },
      "outputs": [
        {
          "data": {
            "text/plain": [
              "dtype('O')"
            ]
          },
          "execution_count": 38,
          "metadata": {},
          "output_type": "execute_result"
        }
      ],
      "source": [
        "X_multi_voice_train.dtype"
      ]
    },
    {
      "cell_type": "code",
      "execution_count": null,
      "metadata": {
        "id": "AAPdUijV-hj0"
      },
      "outputs": [],
      "source": [
        "y_multi_voice_train = y_multi_voice_train.astype('float32')\n",
        "y_multi_voice_test = y_multi_voice_test.astype('float32')"
      ]
    },
    {
      "cell_type": "code",
      "execution_count": null,
      "metadata": {
        "colab": {
          "base_uri": "https://localhost:8080/",
          "height": 357
        },
        "id": "_07m-qRBhXdK",
        "outputId": "73b690ab-1320-4345-807e-23596c8735c3"
      },
      "outputs": [
        {
          "ename": "ValueError",
          "evalue": "ignored",
          "output_type": "error",
          "traceback": [
            "\u001b[0;31m---------------------------------------------------------------------------\u001b[0m",
            "\u001b[0;31mValueError\u001b[0m                                Traceback (most recent call last)",
            "\u001b[0;32m<ipython-input-35-435a3f604d2e>\u001b[0m in \u001b[0;36m<module>\u001b[0;34m\u001b[0m\n\u001b[1;32m      2\u001b[0m \u001b[0mearly_stopping\u001b[0m \u001b[0;34m=\u001b[0m  \u001b[0mEarlyStopping\u001b[0m\u001b[0;34m(\u001b[0m\u001b[0mmonitor\u001b[0m\u001b[0;34m=\u001b[0m\u001b[0;34m'val_loss'\u001b[0m\u001b[0;34m,\u001b[0m \u001b[0mmin_delta\u001b[0m\u001b[0;34m=\u001b[0m\u001b[0;36m0.0\u001b[0m\u001b[0;34m,\u001b[0m \u001b[0mpatience\u001b[0m\u001b[0;34m=\u001b[0m\u001b[0;36m5\u001b[0m\u001b[0;34m)\u001b[0m\u001b[0;34m\u001b[0m\u001b[0;34m\u001b[0m\u001b[0m\n\u001b[1;32m      3\u001b[0m \u001b[0;34m\u001b[0m\u001b[0m\n\u001b[0;32m----> 4\u001b[0;31m \u001b[0mhistory\u001b[0m \u001b[0;34m=\u001b[0m \u001b[0mmodel\u001b[0m\u001b[0;34m.\u001b[0m\u001b[0mfit\u001b[0m\u001b[0;34m(\u001b[0m\u001b[0mX_multi_voice_train\u001b[0m\u001b[0;34m,\u001b[0m \u001b[0my_multi_voice_train\u001b[0m\u001b[0;34m,\u001b[0m \u001b[0mepochs\u001b[0m\u001b[0;34m=\u001b[0m\u001b[0;36m100\u001b[0m\u001b[0;34m,\u001b[0m \u001b[0mvalidation_data\u001b[0m\u001b[0;34m=\u001b[0m\u001b[0;34m(\u001b[0m\u001b[0mX_multi_voice_test\u001b[0m\u001b[0;34m,\u001b[0m \u001b[0my_multi_voice_test\u001b[0m\u001b[0;34m)\u001b[0m\u001b[0;34m,\u001b[0m \u001b[0mcallbacks\u001b[0m\u001b[0;34m=\u001b[0m\u001b[0;34m[\u001b[0m\u001b[0mearly_stopping\u001b[0m\u001b[0;34m]\u001b[0m\u001b[0;34m)\u001b[0m\u001b[0;34m\u001b[0m\u001b[0;34m\u001b[0m\u001b[0m\n\u001b[0m",
            "\u001b[0;32m/usr/local/lib/python3.8/dist-packages/keras/utils/traceback_utils.py\u001b[0m in \u001b[0;36merror_handler\u001b[0;34m(*args, **kwargs)\u001b[0m\n\u001b[1;32m     65\u001b[0m     \u001b[0;32mexcept\u001b[0m \u001b[0mException\u001b[0m \u001b[0;32mas\u001b[0m \u001b[0me\u001b[0m\u001b[0;34m:\u001b[0m  \u001b[0;31m# pylint: disable=broad-except\u001b[0m\u001b[0;34m\u001b[0m\u001b[0;34m\u001b[0m\u001b[0m\n\u001b[1;32m     66\u001b[0m       \u001b[0mfiltered_tb\u001b[0m \u001b[0;34m=\u001b[0m \u001b[0m_process_traceback_frames\u001b[0m\u001b[0;34m(\u001b[0m\u001b[0me\u001b[0m\u001b[0;34m.\u001b[0m\u001b[0m__traceback__\u001b[0m\u001b[0;34m)\u001b[0m\u001b[0;34m\u001b[0m\u001b[0;34m\u001b[0m\u001b[0m\n\u001b[0;32m---> 67\u001b[0;31m       \u001b[0;32mraise\u001b[0m \u001b[0me\u001b[0m\u001b[0;34m.\u001b[0m\u001b[0mwith_traceback\u001b[0m\u001b[0;34m(\u001b[0m\u001b[0mfiltered_tb\u001b[0m\u001b[0;34m)\u001b[0m \u001b[0;32mfrom\u001b[0m \u001b[0;32mNone\u001b[0m\u001b[0;34m\u001b[0m\u001b[0;34m\u001b[0m\u001b[0m\n\u001b[0m\u001b[1;32m     68\u001b[0m     \u001b[0;32mfinally\u001b[0m\u001b[0;34m:\u001b[0m\u001b[0;34m\u001b[0m\u001b[0;34m\u001b[0m\u001b[0m\n\u001b[1;32m     69\u001b[0m       \u001b[0;32mdel\u001b[0m \u001b[0mfiltered_tb\u001b[0m\u001b[0;34m\u001b[0m\u001b[0;34m\u001b[0m\u001b[0m\n",
            "\u001b[0;32m/usr/local/lib/python3.8/dist-packages/tensorflow/python/framework/constant_op.py\u001b[0m in \u001b[0;36mconvert_to_eager_tensor\u001b[0;34m(value, ctx, dtype)\u001b[0m\n\u001b[1;32m    100\u001b[0m       \u001b[0mdtype\u001b[0m \u001b[0;34m=\u001b[0m \u001b[0mdtypes\u001b[0m\u001b[0;34m.\u001b[0m\u001b[0mas_dtype\u001b[0m\u001b[0;34m(\u001b[0m\u001b[0mdtype\u001b[0m\u001b[0;34m)\u001b[0m\u001b[0;34m.\u001b[0m\u001b[0mas_datatype_enum\u001b[0m\u001b[0;34m\u001b[0m\u001b[0;34m\u001b[0m\u001b[0m\n\u001b[1;32m    101\u001b[0m   \u001b[0mctx\u001b[0m\u001b[0;34m.\u001b[0m\u001b[0mensure_initialized\u001b[0m\u001b[0;34m(\u001b[0m\u001b[0;34m)\u001b[0m\u001b[0;34m\u001b[0m\u001b[0;34m\u001b[0m\u001b[0m\n\u001b[0;32m--> 102\u001b[0;31m   \u001b[0;32mreturn\u001b[0m \u001b[0mops\u001b[0m\u001b[0;34m.\u001b[0m\u001b[0mEagerTensor\u001b[0m\u001b[0;34m(\u001b[0m\u001b[0mvalue\u001b[0m\u001b[0;34m,\u001b[0m \u001b[0mctx\u001b[0m\u001b[0;34m.\u001b[0m\u001b[0mdevice_name\u001b[0m\u001b[0;34m,\u001b[0m \u001b[0mdtype\u001b[0m\u001b[0;34m)\u001b[0m\u001b[0;34m\u001b[0m\u001b[0;34m\u001b[0m\u001b[0m\n\u001b[0m\u001b[1;32m    103\u001b[0m \u001b[0;34m\u001b[0m\u001b[0m\n\u001b[1;32m    104\u001b[0m \u001b[0;34m\u001b[0m\u001b[0m\n",
            "\u001b[0;31mValueError\u001b[0m: Failed to convert a NumPy array to a Tensor (Unsupported object type numpy.ndarray)."
          ]
        }
      ],
      "source": [
        "from keras.callbacks import EarlyStopping\n",
        "early_stopping =  EarlyStopping(monitor='val_loss', min_delta=0.0, patience=5)\n",
        "\n",
        "history = model.fit(X_multi_voice_train, y_multi_voice_train, epochs=100, validation_data=(X_multi_voice_test, y_multi_voice_test), callbacks=[early_stopping])"
      ]
    },
    {
      "cell_type": "markdown",
      "metadata": {
        "id": "mzi7aMmc1ivh"
      },
      "source": [
        "## マルチモーダル1"
      ]
    },
    {
      "cell_type": "markdown",
      "metadata": {
        "id": "kCVEi7NN2nY5"
      },
      "source": []
    },
    {
      "cell_type": "markdown",
      "metadata": {
        "id": "JmWN9TqB1mJj"
      },
      "source": [
        "## マルチモーダル2"
      ]
    },
    {
      "cell_type": "markdown",
      "metadata": {
        "id": "TxbVkUbL1nut"
      },
      "source": [
        "## マルチモーダル3"
      ]
    },
    {
      "cell_type": "markdown",
      "metadata": {
        "id": "9cjOhQd91WI2"
      },
      "source": [
        "# その他"
      ]
    },
    {
      "cell_type": "code",
      "execution_count": null,
      "metadata": {
        "id": "E5pYo8Gu1SwD"
      },
      "outputs": [],
      "source": []
    }
  ],
  "metadata": {
    "accelerator": "GPU",
    "colab": {
      "provenance": [],
      "authorship_tag": "ABX9TyON9u2O4sTZYNCa9Mp75Rav",
      "include_colab_link": true
    },
    "gpuClass": "standard",
    "kernelspec": {
      "display_name": "Python 3",
      "name": "python3"
    },
    "language_info": {
      "name": "python"
    }
  },
  "nbformat": 4,
  "nbformat_minor": 0
}